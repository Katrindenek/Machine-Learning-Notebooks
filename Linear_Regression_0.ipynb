{
 "cells": [
  {
   "cell_type": "markdown",
   "metadata": {},
   "source": [
    "# Простая линейная регрессия. Метод наименьших квадратов\n",
    "\n",
    "Простая линейная регрессия моделирует связь между величиной одной переменной и величиной второй. Например, по мере увеличения $X$ увеличивается и $Y$ или же наоборот уменьшается. Рассмотрим на примере предсказания прибыли от продовольственных перевозок. Допустим, есть данные прибыли от перевозок еды в рестораны некоторых городов с известной численностью населения."
   ]
  },
  {
   "cell_type": "code",
   "execution_count": 1,
   "metadata": {},
   "outputs": [],
   "source": [
    "%matplotlib inline\n",
    "import numpy as np\n",
    "import pandas as pd\n",
    "import matplotlib.pyplot as plt"
   ]
  },
  {
   "cell_type": "code",
   "execution_count": 2,
   "metadata": {},
   "outputs": [],
   "source": [
    "headers = ['population', 'profit']\n",
    "df = pd.read_csv('ex1data1.csv', names=headers)"
   ]
  },
  {
   "cell_type": "code",
   "execution_count": 3,
   "metadata": {},
   "outputs": [
    {
     "data": {
      "text/html": [
       "<div>\n",
       "<style scoped>\n",
       "    .dataframe tbody tr th:only-of-type {\n",
       "        vertical-align: middle;\n",
       "    }\n",
       "\n",
       "    .dataframe tbody tr th {\n",
       "        vertical-align: top;\n",
       "    }\n",
       "\n",
       "    .dataframe thead th {\n",
       "        text-align: right;\n",
       "    }\n",
       "</style>\n",
       "<table border=\"1\" class=\"dataframe\">\n",
       "  <thead>\n",
       "    <tr style=\"text-align: right;\">\n",
       "      <th></th>\n",
       "      <th>population</th>\n",
       "      <th>profit</th>\n",
       "    </tr>\n",
       "  </thead>\n",
       "  <tbody>\n",
       "    <tr>\n",
       "      <th>0</th>\n",
       "      <td>6.1101</td>\n",
       "      <td>17.5920</td>\n",
       "    </tr>\n",
       "    <tr>\n",
       "      <th>1</th>\n",
       "      <td>5.5277</td>\n",
       "      <td>9.1302</td>\n",
       "    </tr>\n",
       "    <tr>\n",
       "      <th>2</th>\n",
       "      <td>8.5186</td>\n",
       "      <td>13.6620</td>\n",
       "    </tr>\n",
       "    <tr>\n",
       "      <th>3</th>\n",
       "      <td>7.0032</td>\n",
       "      <td>11.8540</td>\n",
       "    </tr>\n",
       "    <tr>\n",
       "      <th>4</th>\n",
       "      <td>5.8598</td>\n",
       "      <td>6.8233</td>\n",
       "    </tr>\n",
       "  </tbody>\n",
       "</table>\n",
       "</div>"
      ],
      "text/plain": [
       "   population   profit\n",
       "0      6.1101  17.5920\n",
       "1      5.5277   9.1302\n",
       "2      8.5186  13.6620\n",
       "3      7.0032  11.8540\n",
       "4      5.8598   6.8233"
      ]
     },
     "execution_count": 3,
     "metadata": {},
     "output_type": "execute_result"
    }
   ],
   "source": [
    "df.head()"
   ]
  },
  {
   "cell_type": "code",
   "execution_count": 4,
   "metadata": {},
   "outputs": [],
   "source": [
    "x = df.population\n",
    "y = df.profit"
   ]
  },
  {
   "cell_type": "markdown",
   "metadata": {},
   "source": [
    "## Визуализация данных"
   ]
  },
  {
   "cell_type": "code",
   "execution_count": 5,
   "metadata": {},
   "outputs": [
    {
     "data": {
      "image/png": "[encoded data removed]",
      "text/plain": [
       "<Figure size 1080x720 with 1 Axes>"
      ]
     },
     "metadata": {
      "needs_background": "light"
     },
     "output_type": "display_data"
    }
   ],
   "source": [
    "plt.figure(figsize=(15, 10))\n",
    "plt.scatter(df.population, df.profit)\n",
    "plt.ylabel('Profit in $10,000s')\n",
    "plt.xlabel('Population of City in 10,000s')\n",
    "plt.title('Scatter plot of training data')\n",
    "plt.show()"
   ]
  },
  {
   "cell_type": "markdown",
   "metadata": {},
   "source": [
    "## Корреляция\n",
    "\n",
    "Из графика видно, что с увеличением численности населения увеличивается и прибыль. Корреляция — ещё один способ измерить, каким образом связаны две переменные."
   ]
  },
  {
   "cell_type": "code",
   "execution_count": 6,
   "metadata": {},
   "outputs": [
    {
     "data": {
      "text/html": [
       "<div>\n",
       "<style scoped>\n",
       "    .dataframe tbody tr th:only-of-type {\n",
       "        vertical-align: middle;\n",
       "    }\n",
       "\n",
       "    .dataframe tbody tr th {\n",
       "        vertical-align: top;\n",
       "    }\n",
       "\n",
       "    .dataframe thead th {\n",
       "        text-align: right;\n",
       "    }\n",
       "</style>\n",
       "<table border=\"1\" class=\"dataframe\">\n",
       "  <thead>\n",
       "    <tr style=\"text-align: right;\">\n",
       "      <th></th>\n",
       "      <th>population</th>\n",
       "      <th>profit</th>\n",
       "    </tr>\n",
       "  </thead>\n",
       "  <tbody>\n",
       "    <tr>\n",
       "      <th>population</th>\n",
       "      <td>1.000000</td>\n",
       "      <td>0.837873</td>\n",
       "    </tr>\n",
       "    <tr>\n",
       "      <th>profit</th>\n",
       "      <td>0.837873</td>\n",
       "      <td>1.000000</td>\n",
       "    </tr>\n",
       "  </tbody>\n",
       "</table>\n",
       "</div>"
      ],
      "text/plain": [
       "            population    profit\n",
       "population    1.000000  0.837873\n",
       "profit        0.837873  1.000000"
      ]
     },
     "execution_count": 6,
     "metadata": {},
     "output_type": "execute_result"
    }
   ],
   "source": [
    "df.corr()"
   ]
  },
  {
   "cell_type": "markdown",
   "metadata": {},
   "source": [
    "Выше представлена таблица корреляций (или корреляционная матрица). Она состоит из выборочных коэффициентов корреляции, каждый из которых измеряет степень, с какой числовые переменные связаны друг с другом в диапозоне от -1 (идеальная отрицательная корреляция) до 1 (идеальная положительная корреляция). Значение 0 свидетельствует об отсутствии корреляции. Каждый выборочный коэффициент корреляции из корреляционной матрицы вычисляется по формуле\n",
    "$$ \\hat r_{xy} = \\dfrac{\\sum\\limits_{i = 1}^{n} \\left( x_i - \\overline{x} \\right) \\left( y_i - \\overline{y} \\right)}{n \\hat s_x \\hat s_y}, $$\n",
    "где $\\hat s_x = \\sqrt{\\hat d_x(n)}$, $\\hat s_y = \\sqrt{\\hat d_y(n)}$ — стандартные отклонения, где\n",
    "$$ \\hat d_x(n) = \\dfrac{\\sum\\limits_{i = 1}^{n} \\left( x_i - \\overline{x} \\right)^2}{n}, \\quad \\hat d_y(n) = \\dfrac{\\sum\\limits_{i = 1}^{n} \\left( y_i - \\overline{y} \\right)^2}{n}, $$\n",
    "называются выборочными дисперсиями, а $\\overline{x}$, $\\overline{y}$ — выборочные средние:\n",
    "$$ \\overline{x} = \\hat m_x(n) = \\dfrac{1}{n} \\sum\\limits_{i = 1}^{n} x_i, \\quad \\overline{y} = \\hat m_y(n) = \\dfrac{1}{n} \\sum\\limits_{i = 1}^{n} y_i. $$"
   ]
  },
  {
   "cell_type": "code",
   "execution_count": 7,
   "metadata": {},
   "outputs": [],
   "source": [
    "def sample_mean(x):\n",
    "    n = len(x)\n",
    "    return np.sum(x) / n\n",
    "\n",
    "\n",
    "def sample_std(x):\n",
    "    n = len(x)\n",
    "    return np.sqrt(np.sum((x - sample_mean(x)) ** 2) / n)\n",
    "\n",
    "\n",
    "def sample_r(x, y):\n",
    "    n = len(x)\n",
    "    return np.sum((x - sample_mean(x)) * (y - sample_mean(y)) / (n * sample_std(x) * sample_std(y)))"
   ]
  },
  {
   "cell_type": "code",
   "execution_count": 8,
   "metadata": {},
   "outputs": [
    {
     "name": "stdout",
     "output_type": "stream",
     "text": [
      "Correlation coefficient = 0.837873232526341\n"
     ]
    }
   ],
   "source": [
    "print('Correlation coefficient =', sample_r(x, y))"
   ]
  },
  {
   "cell_type": "markdown",
   "metadata": {},
   "source": [
    "Таким образом мы получили значение коэффициента корреляции для прибыли продовольственных перевозок и численности населения, который в корреляционной матрице находится на побочной диагонали. Поскольку его значение ближе к единице, можно говорить о положительной корреляции этих переменных.\n",
    "\n",
    "В отличие от корреляции, линейная регрессия позволяет квантифицировать природу этой взаимосвязи и предсказать приблизительное значение прибыли для городов с численностью населения, отличной от известных нам."
   ]
  },
  {
   "cell_type": "markdown",
   "metadata": {},
   "source": [
    "## Модель линейной регрессии\n",
    "\n",
    "Простая линейная регрессия оценивает, насколько именно изменится $y$, когда $x$ изменится на определенную величину. Для коэффициента корреляции переменные взаимозаменяемы, о чем говорит симметричность корреляционной матрицы. В случае же с регрессией мы пытаемся предсказать переменную $y$ из переменной $x$, используя линейное соотношение\n",
    "$$ y = \\theta_0 + \\theta_1 x, $$\n",
    "где $\\theta_0$ называется _пересечением_, а $\\theta_1$ — _наклоном_ для $x$. Переменная $y$ называется _откликом_, _целью_ или _зависимой_ переменной, а $x$ называется _предиктором_, _вектором признаков_ или _независимой_ переменной."
   ]
  },
  {
   "cell_type": "markdown",
   "metadata": {},
   "source": [
    "Поскольку уравнение регрессии задано линейным соотношением, то и в результате мы получим прямую. Как правило она не проходит точно через все имеющиеся данные, поэтому уравнение регрессии должно включать в себя заданный в явной форме остаточный член $e$, который является случайной величиной:\n",
    "$$ y = \\theta_0 + \\theta_1 x + e.$$\n",
    "_Подогнанные_, или _предсказанные_, значения задаются следующей формулой:\n",
    "$$ \\hat{y} = \\theta_0 + \\theta_1 x.$$\n",
    "Форма записи коэффициентов регрессии (с шляпой) говорит о том, что они оценочные (расчетные) в отличие от точных."
   ]
  },
  {
   "cell_type": "code",
   "execution_count": 9,
   "metadata": {},
   "outputs": [],
   "source": [
    "def predict(theta_0, theta_1, x):\n",
    "    return theta_0 + theta_1 * x"
   ]
  },
  {
   "cell_type": "markdown",
   "metadata": {},
   "source": [
    "## Метод максимального правдоподобия\n",
    "\n",
    "Пусть имеется выборка данных $v_1, \\dots, v_n$, которая порождается распределением, зависящим от некоторого неизвестного параметра $\\varphi$:\n",
    "$$ p(v_1, \\dots, v_n | \\varphi). $$\n",
    "Если параметр $\\varphi$ неизвестен, то можно поменять члены местами, чтобы представить эту величину, как _правдоподобие_ параметра $\\varphi$ при наличии выборки:\n",
    "$$ L(\\varphi | v_1, \\dots, v_n). $$\n",
    "Согласно такому подходу наиболее правдоподобным значением $\\varphi$ является то, которое максимизирует эту функцию правдоподобия, т. е. значение, которое делает наблюдаемые данные наиболее вероятными.\n",
    "\n",
    "Одно из допущений, которое нередко принимается относительно модели простой линейной регрессии, заключается в том, что случайные ошибки регрессии нормально распределены с нулевым средним и неким (известным) стандартным отклонением $\\sigma$. В этом случае правдоподобие на основе наблюдаемой пары $(x_i, y_i)$ равно:\n",
    "$$ L\\left(\\theta_0, \\theta_1 | x_i, y_i, \\sigma \\right) = \\dfrac{1}{\\sqrt{2 \\pi \\sigma}} \\exp{\\dfrac{-\\left( y_i - \\theta_0 - \\theta_1 x_i \\right)^2}{2 \\sigma^2}}. $$\n",
    "Правдоподобие на основе всего набора данных является произведением индивидуальных правдоподобий:\n",
    "$$ L\\left( \\theta_0, \\theta_1 | x, y, \\sigma \\right) = \\prod\\limits_{i = 1}^{n} L\\left( \\theta_0, \\theta_1 | x_i, y_i, \\sigma \\right) = \\dfrac{1}{\\left(2\\pi\\sigma\\right)^{n / 2}}  \\exp{\\dfrac{- \\sum\\limits_{i = 1}^n \\left( y_i - \\theta_0 - \\theta_1 x_i \\right)^2}{2 \\sigma^2}}. $$\n",
    "Такая функция правдоподобия максимальна тогда, когда минимальна _сумма квадратов случайных ошибок_, или _остаточная сумма квадратов (RSS)_. Таким образом, мы приходим к методу наименьших квадратов."
   ]
  },
  {
   "cell_type": "markdown",
   "metadata": {},
   "source": [
    "## Метод наименьших квадратов\n",
    "\n",
    "Итак, прямая регрессии является оценкой, которая минимизирует остаточную сумму квадратов:\n",
    "$$ RSS(\\theta_0, \\theta_1) = \\sum\\limits_{i = 1}^{n} \\left( y_i - \\hat{y_i} \\right)^2 = \\sum\\limits_{i = 1}^{n} \\left( y_i - \\theta_0 - \\theta_1 x_i \\right)^2, $$\n",
    "где $\\theta_0$ и $\\theta_1$ — это значения, которые минимизируют $RSS$."
   ]
  },
  {
   "cell_type": "code",
   "execution_count": 10,
   "metadata": {},
   "outputs": [],
   "source": [
    "def sum_of_squared_errors(theta_0, theta_1, x, y):\n",
    "    return np.sum((y - predict(theta_0, theta_1, x)) ** 2)"
   ]
  },
  {
   "cell_type": "markdown",
   "metadata": {},
   "source": [
    "Для удобства сумму в $RSS$ часто домножают константой $\\dfrac{1}{2n}$:\n",
    "$$ RSS(\\theta_0, \\theta_1) = \\dfrac{1}{2n} \\sum\\limits_{i = 1}^{n} \\left( y_i - \\theta_0 - \\theta_1 x_i \\right)^2. $$\n",
    "\n",
    "Методом минимизации суммы квадратических остатков называется _методом наименьших квадратов_. Он основан на необходимом условии существования экстремума функции многих переменных, которое требует равенства нулю первых частных производных по переменным, по которым минимизируется функция.\n",
    "\n",
    "То есть, должны выполняться равенства\n",
    "$$ \\dfrac{\\partial RSS}{\\partial \\theta_0} = \\dfrac{1}{n} \\sum\\limits_{i = 1}^{n} \\left( y_i - \\theta_0 - x_i \\theta_1 \\right) \\cdot (-1) = -\\dfrac{1}{n} \\sum\\limits_{i} y_i + \\theta_0 + \\dfrac{\\theta_1}{n} \\sum\\limits_{i} x_i = 0, $$\n",
    "$$ \\dfrac{\\partial RSS}{\\partial \\theta_1} = \\dfrac{1}{n} \\sum\\limits_{i = 1}^{n} \\left( y_i - \\theta_0 - x_i \\theta_1 \\right) \\cdot \\left( -x_i \\right) = -\\dfrac{1}{n} \\sum\\limits_i y_i x_i + \\dfrac{\\theta_0}{n} \\sum\\limits_i x_i + \\dfrac{\\theta_1}{n} \\sum\\limits_i x_i^2 = 0. $$\n",
    "Откуда\n",
    "$$ \\theta_0 = \\dfrac{1}{n} \\sum\\limits_i y_i - \\dfrac{\\theta_0}{n} \\sum\\limits_i x_i = \\overline{y} - \\theta_1 \\overline{x}, $$\n",
    "$$ \\theta_1 = \\dfrac{\\sum\\limits_i y_i x_i - \\dfrac{1}{n}\\sum\\limits_i y_i \\sum\\limits_i x_i}{\\sum\\limits_i x_i^2 - \\dfrac{1}{n} \\left( \\sum\\limits_i x_i \\right)^2}. $$\n",
    "\n",
    "Можно заметить, что\n",
    "$$ \\theta_1 = \\dfrac{Cov(x, y)}{\\hat{d}_x(n)} = \\hat r_{xy} \\sqrt{\\dfrac{\\hat d_y(n)}{\\hat d_x(n)}} = \\hat r_{xy} \\dfrac{\\hat s_y}{\\hat s_x}, $$\n",
    "$$ \\theta_0 = \\hat m_y(n) - \\theta_1 \\hat m_x(n), $$\n",
    "где $Cov(x, y)$ — выборочная ковариация."
   ]
  },
  {
   "cell_type": "markdown",
   "metadata": {},
   "source": [
    "По полученным уравнениям можем найти значения коэффициентов регрессии для нашего примера."
   ]
  },
  {
   "cell_type": "code",
   "execution_count": 11,
   "metadata": {},
   "outputs": [
    {
     "name": "stdout",
     "output_type": "stream",
     "text": [
      "Coeffitients of regression: -3.8957808783118555 1.1930336441895941\n"
     ]
    }
   ],
   "source": [
    "def least_squares_fit(x, y):\n",
    "    theta_1 = sample_r(x, y) * sample_std(y) / sample_std(x)\n",
    "    theta_0 = sample_mean(y) - theta_1 * sample_mean(x)\n",
    "    return theta_0, theta_1\n",
    "\n",
    "theta_0, theta_1 = least_squares_fit(x, y)\n",
    "print('Coeffitients of regression:', theta_0, theta_1)"
   ]
  },
  {
   "cell_type": "markdown",
   "metadata": {},
   "source": [
    "Посмотрим, какая ожидается прибыль от городов с населением 35000 и 70000 человек."
   ]
  },
  {
   "cell_type": "code",
   "execution_count": 12,
   "metadata": {},
   "outputs": [
    {
     "name": "stdout",
     "output_type": "stream",
     "text": [
      "For population of 35,000 people we predict a profit of 2798.0$.\n",
      "For population of 70,000 people we predict a profit of 44555.0$.\n"
     ]
    }
   ],
   "source": [
    "profit_35k = round(predict(theta_0, theta_1, 3.5) * 10000)\n",
    "profit_70k = round(predict(theta_0, theta_1, 7) * 10000)\n",
    "\n",
    "print(f'For population of 35,000 people we predict a profit of {profit_35k}$.\\nFor population of 70,000 people we predict a profit of {profit_70k}$.')"
   ]
  },
  {
   "cell_type": "markdown",
   "metadata": {},
   "source": [
    "На графике изображена полученная прямая линейной регрессии."
   ]
  },
  {
   "cell_type": "code",
   "execution_count": 13,
   "metadata": {},
   "outputs": [
    {
     "data": {
      "image/png": "[encoded data removed]",
      "text/plain": [
       "<Figure size 1080x720 with 1 Axes>"
      ]
     },
     "metadata": {
      "needs_background": "light"
     },
     "output_type": "display_data"
    }
   ],
   "source": [
    "plt.figure(figsize=(15, 10))\n",
    "plt.scatter(x, y, color='red')\n",
    "plt.plot(x, predict(theta_0, theta_1, x), color='green')\n",
    "plt.ylabel('Profit in $10,000s')\n",
    "plt.xlabel('Population of City in 10,000s')\n",
    "plt.legend(['Linear regression', 'Training data'])\n",
    "plt.title('Training data with linear regression fit')\n",
    "plt.show()"
   ]
  },
  {
   "cell_type": "markdown",
   "metadata": {},
   "source": [
    "## Оценка модели\n",
    "\n",
    "Оценить качество модели можно, просто подсчитав остаточную сумму квадратов, которая фигурировала в методе наименьших квадратов. Часто эту сумму делят на размер выборки $n$, тогда ошибка называется среднеквадратической ошибкой."
   ]
  },
  {
   "cell_type": "code",
   "execution_count": 14,
   "metadata": {},
   "outputs": [
    {
     "name": "stdout",
     "output_type": "stream",
     "text": [
      "Mean squared error = 8.953942751950358\n"
     ]
    }
   ],
   "source": [
    "def mean_squared_error(theta_0, theta_1, x, y):\n",
    "    n = len(x)\n",
    "    return sum_of_squared_errors(theta_0, theta_1, x, y) / n\n",
    "\n",
    "\n",
    "mse = mean_squared_error(theta_0, theta_1, x, y)\n",
    "print('Mean squared error =', mse)"
   ]
  },
  {
   "cell_type": "markdown",
   "metadata": {},
   "source": [
    "Чем меньше значение среднеквадратическая ошибка, тем лучше работает модель. Недостатком этого способа является то, что непонятно, от какого значения отталкиваться. Является ли полученное выше значение хорошей оценкой или плохой? Другой распространенной мерой оценки качества подгонки является _коэффициент детерминации_ ($R_2$, _R-квадрат_), который измеряет долю суммарной вариации в зависимой переменной, объясняемой моделью. Для этого из единицы надо вычесть долю вариации, не объясненной моделью."
   ]
  },
  {
   "cell_type": "code",
   "execution_count": 15,
   "metadata": {},
   "outputs": [],
   "source": [
    "def total_sum_of_squares(y):\n",
    "    return np.sum((y - sample_mean(y)) ** 2)\n",
    "\n",
    "\n",
    "def r_squared(theta_0, theta_1, x, y):\n",
    "    return 1.0 - (sum_of_squared_errors(theta_0, theta_1, x, y) / total_sum_of_squares(y))"
   ]
  },
  {
   "cell_type": "markdown",
   "metadata": {},
   "source": [
    "Очевидно, что значение коэффициента детерминации находится в промежутке между 0 и 1 ($R_2 \\in [0, 1]$). Чем ближе его значение к единице, тем лучше подгонка модели к данным."
   ]
  },
  {
   "cell_type": "code",
   "execution_count": 16,
   "metadata": {},
   "outputs": [
    {
     "name": "stdout",
     "output_type": "stream",
     "text": [
      "R-squared error = 0.7020315537841397\n"
     ]
    }
   ],
   "source": [
    "r2 = r_squared(theta_0, theta_1, x, y)\n",
    "print('R-squared error =', r2)"
   ]
  },
  {
   "cell_type": "markdown",
   "metadata": {},
   "source": [
    "Полученное значение коэффициента детерминации говорит, что в целом модель достаточно хорошо описывает наши данные."
   ]
  },
  {
   "cell_type": "markdown",
   "metadata": {},
   "source": [
    "# Список использованных источников\n",
    "\n",
    "1. Материалы курса Machine Learning - Andrew Ng, Stanford University on Coursera.\n",
    "2. Грас Дж. Data Science. Наука о данных с нуля: Пер. с англ. — СПб.: БХВ-Петербург, 2019. — 336 с.: ил.\n",
    "3. Брюс, П. Практическая статистика для специалистов Data Science: Пер. с англ. / П. Брюс, Э Брюс. — СПб.: БХВ-Петербург, 2019. — 304 с.: ил.\n",
    "4. Кибзун А. И., Горяинова Е. Р., Наумов А. В. Теория вероятностей и математическая статистика. Базовый курс с примерами и задачами: Учебник. — 3-е изд., перераб. и доп. — М.: ФИЗМАТЛИТ, 2013. — 232 с.\n",
    "5. http://www.machinelearning.ru/wiki/images/f/fc/MOTP14_3.pdf"
   ]
  }
 ],
 "metadata": {
  "kernelspec": {
   "display_name": "Python 3",
   "language": "python",
   "name": "python3"
  },
  "language_info": {
   "codemirror_mode": {
    "name": "ipython",
    "version": 3
   },
   "file_extension": ".py",
   "mimetype": "text/x-python",
   "name": "python",
   "nbconvert_exporter": "python",
   "pygments_lexer": "ipython3",
   "version": "3.7.4"
  }
 },
 "nbformat": 4,
 "nbformat_minor": 4
}
