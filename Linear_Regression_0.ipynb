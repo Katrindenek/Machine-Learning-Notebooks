{
 "cells": [
  {
   "cell_type": "markdown",
   "metadata": {},
   "source": [
    "# Одномерная линейная регрессия. \n",
    "\n",
    "Простая линейная регрессия моделирует связь между величиной одной переменной и величиной второй. Например, по мере увеличения $X$ увеличивается и $Y$ или же наоборот уменьшается. Рассмотрим на примере предсказания прибыли от продовольственных перевозок. Допустим, есть данные прибыли от перевозок еды в рестораны некоторых городов с известной численностью населения."
   ]
  },
  {
   "cell_type": "code",
   "execution_count": 1,
   "metadata": {},
   "outputs": [],
   "source": [
    "%matplotlib inline\n",
    "import numpy as np\n",
    "import pandas as pd\n",
    "import matplotlib.pyplot as plt"
   ]
  },
  {
   "cell_type": "code",
   "execution_count": 2,
   "metadata": {},
   "outputs": [],
   "source": [
    "headers = ['population', 'profit']\n",
    "df = pd.read_csv('ex1data1.csv', names=headers)"
   ]
  },
  {
   "cell_type": "code",
   "execution_count": 3,
   "metadata": {},
   "outputs": [
    {
     "data": {
      "text/html": [
       "<div>\n",
       "<style scoped>\n",
       "    .dataframe tbody tr th:only-of-type {\n",
       "        vertical-align: middle;\n",
       "    }\n",
       "\n",
       "    .dataframe tbody tr th {\n",
       "        vertical-align: top;\n",
       "    }\n",
       "\n",
       "    .dataframe thead th {\n",
       "        text-align: right;\n",
       "    }\n",
       "</style>\n",
       "<table border=\"1\" class=\"dataframe\">\n",
       "  <thead>\n",
       "    <tr style=\"text-align: right;\">\n",
       "      <th></th>\n",
       "      <th>population</th>\n",
       "      <th>profit</th>\n",
       "    </tr>\n",
       "  </thead>\n",
       "  <tbody>\n",
       "    <tr>\n",
       "      <th>0</th>\n",
       "      <td>6.1101</td>\n",
       "      <td>17.5920</td>\n",
       "    </tr>\n",
       "    <tr>\n",
       "      <th>1</th>\n",
       "      <td>5.5277</td>\n",
       "      <td>9.1302</td>\n",
       "    </tr>\n",
       "    <tr>\n",
       "      <th>2</th>\n",
       "      <td>8.5186</td>\n",
       "      <td>13.6620</td>\n",
       "    </tr>\n",
       "    <tr>\n",
       "      <th>3</th>\n",
       "      <td>7.0032</td>\n",
       "      <td>11.8540</td>\n",
       "    </tr>\n",
       "    <tr>\n",
       "      <th>4</th>\n",
       "      <td>5.8598</td>\n",
       "      <td>6.8233</td>\n",
       "    </tr>\n",
       "  </tbody>\n",
       "</table>\n",
       "</div>"
      ],
      "text/plain": [
       "   population   profit\n",
       "0      6.1101  17.5920\n",
       "1      5.5277   9.1302\n",
       "2      8.5186  13.6620\n",
       "3      7.0032  11.8540\n",
       "4      5.8598   6.8233"
      ]
     },
     "execution_count": 3,
     "metadata": {},
     "output_type": "execute_result"
    }
   ],
   "source": [
    "df.head()"
   ]
  },
  {
   "cell_type": "code",
   "execution_count": 4,
   "metadata": {},
   "outputs": [
    {
     "data": {
      "image/png": "[encoded data removed]",
      "text/plain": [
       "<Figure size 1080x720 with 1 Axes>"
      ]
     },
     "metadata": {
      "needs_background": "light"
     },
     "output_type": "display_data"
    }
   ],
   "source": [
    "plt.figure(figsize=(15, 10))\n",
    "plt.scatter(df.population, df.profit)\n",
    "plt.ylabel('Profit in $10,000s')\n",
    "plt.xlabel('Population of City in 10,000s')\n",
    "plt.title('Scatter plot of training data')\n",
    "plt.show()"
   ]
  },
  {
   "cell_type": "markdown",
   "metadata": {},
   "source": [
    "## Корреляция\n",
    "\n",
    "Из графика видно, что с увеличением численности населения увеличивается и прибыль. Корреляция — ещё один способ измерить, каким образом связаны две переменные."
   ]
  },
  {
   "cell_type": "code",
   "execution_count": 5,
   "metadata": {},
   "outputs": [
    {
     "data": {
      "text/html": [
       "<div>\n",
       "<style scoped>\n",
       "    .dataframe tbody tr th:only-of-type {\n",
       "        vertical-align: middle;\n",
       "    }\n",
       "\n",
       "    .dataframe tbody tr th {\n",
       "        vertical-align: top;\n",
       "    }\n",
       "\n",
       "    .dataframe thead th {\n",
       "        text-align: right;\n",
       "    }\n",
       "</style>\n",
       "<table border=\"1\" class=\"dataframe\">\n",
       "  <thead>\n",
       "    <tr style=\"text-align: right;\">\n",
       "      <th></th>\n",
       "      <th>population</th>\n",
       "      <th>profit</th>\n",
       "    </tr>\n",
       "  </thead>\n",
       "  <tbody>\n",
       "    <tr>\n",
       "      <th>population</th>\n",
       "      <td>1.000000</td>\n",
       "      <td>0.837873</td>\n",
       "    </tr>\n",
       "    <tr>\n",
       "      <th>profit</th>\n",
       "      <td>0.837873</td>\n",
       "      <td>1.000000</td>\n",
       "    </tr>\n",
       "  </tbody>\n",
       "</table>\n",
       "</div>"
      ],
      "text/plain": [
       "            population    profit\n",
       "population    1.000000  0.837873\n",
       "profit        0.837873  1.000000"
      ]
     },
     "execution_count": 5,
     "metadata": {},
     "output_type": "execute_result"
    }
   ],
   "source": [
    "df.corr()"
   ]
  },
  {
   "cell_type": "markdown",
   "metadata": {},
   "source": [
    "Выше представлена таблица корреляций (или корреляционная матрица). Она состоит из выборочных коэффициентов корреляции, каждый из которых измеряет степень, с какой числовые переменные связаны друг с другом в диапозоне от -1 (идеальная отрицательная корреляция) до 1 (идеальная положительная корреляция). Значение 0 свидетельствует об отсутствии корреляции. Каждый выборочный коэффициент корреляции из корреляционной матрицы вычисляется по формуле\n",
    "$$ \\hat r_{xy} = \\dfrac{\\sum\\limits_{i = 1}^{n} \\left( x_i - \\overline{x} \\right) \\left( y_i - \\overline{y} \\right)}{n s_x s_y}, $$\n",
    "где $s_x = \\sqrt{\\hat d_x(n)}$, $s_y = \\sqrt{\\hat d_y(n)}$ — стандартные отклонения, где\n",
    "$$ \\hat d_x(n) = \\dfrac{\\sum\\limits_{i = 1}^{n} \\left( x_i - \\overline{x} \\right)^2}{n}, \\quad \\hat d_y(n) = \\dfrac{\\sum\\limits_{i = 1}^{n} \\left( y_i - \\overline{y} \\right)^2}{n}, $$\n",
    "называются выборочными дисперсиями, а $\\overline{x} = \\hat m_x(n)$, $\\overline{y} = \\hat m_y(n)$ — выборочные средние:\n",
    "$$ \\overline{x} = \\dfrac{1}{n} \\sum\\limits_{i = 1}^{n} x_i, \\quad \\overline{y} = \\dfrac{1}{n} \\sum\\limits_{i = 1}^{n} y_i. $$"
   ]
  },
  {
   "cell_type": "code",
   "execution_count": 6,
   "metadata": {},
   "outputs": [
    {
     "name": "stdout",
     "output_type": "stream",
     "text": [
      "Correlation coefficient = 0.8378732325263412\n"
     ]
    }
   ],
   "source": [
    "n = df.shape[0]\n",
    "x_mean = np.sum(df.population) / n\n",
    "y_mean = np.sum(df.profit) / n\n",
    "x_std = np.sum((df.population - x_mean) ** 2) / n\n",
    "y_std = np.sum((df.profit - y_mean) ** 2) / n\n",
    "\n",
    "r = np.sum((df.population - x_mean) * (df.profit - y_mean)) / (n * np.sqrt(x_std) * np.sqrt(y_std))\n",
    "\n",
    "print('Correlation coefficient =', r)"
   ]
  },
  {
   "cell_type": "markdown",
   "metadata": {},
   "source": [
    "Таким образом мы получили значение коэффициента корреляции для прибыли продовольственных перевозок и численности населения, который в корреляционной матрице находится на побочной диагонали. Поскольку его значение ближе к единице, можно говорить о положительной корреляции этих переменных.\n",
    "\n",
    "В отличие от корреляции, линейная регрессия позволяет квантифицировать природу этой взаимосвязи и предсказать приблизительное значение прибыли для городов с численностью населения, отличной от известных нам."
   ]
  },
  {
   "cell_type": "markdown",
   "metadata": {},
   "source": [
    "## Модель линейной регрессии\n",
    "\n",
    "Простая линейная регрессия оценивает, насколько именно изменится $Y$, когда $X$ изменится на определенную величину. Для коэффициента корреляции переменные взаимозаменяемы, о чем говорит симметричность корреляционной матрицы. В случае же с регрессией мы пытаемся предсказать переменную $Y$ из переменной $X$, используя линейное соотношение\n",
    "$$ Y = \\theta_0 + \\theta_1 X, $$\n",
    "где $\\theta_0$ называется _пересечением_, а $\\theta_1$ — _наклоном_ для $X$. Переменная $Y$ называется _откликом_, _целью_ или _зависимой_ переменной, а $X$ называется _предиктором_, _вектором признаков_ или _независимой_ переменной."
   ]
  },
  {
   "cell_type": "markdown",
   "metadata": {},
   "source": [
    "Поскольку уравнение регрессии задано линейным соотношением, то и в результате мы получим прямую. Как правило она не проходит точно через все имеющиеся данные, поэтому уравнение регрессии должно включать в себя заданный в явной форме остаточный член $e$:\n",
    "$$ Y = \\theta_0 + \\theta_1 X + e.$$\n",
    "_Подогнанные_, или _предсказанные_, значения задаются следующей формулой:\n",
    "$$ \\hat{Y} = \\hat{\\theta_0} + \\hat{\\theta_1} X.$$\n",
    "Форма записи коэффициентов регрессии (с шляпой) говорит о том, что они оценочные (расчетные) в отличие от точных.\n",
    "\n",
    "Мы вычисляем остатки $\\hat{e_i}$ путем вычитания предсказанных значений из исходных данных:\n",
    "$$ \\hat{e_i} = Y_i - \\hat{Y_i}. $$\n",
    "То есть, остатки — длина вертикальных расстояний от данных до прямой регрессии."
   ]
  },
  {
   "cell_type": "markdown",
   "metadata": {},
   "source": [
    "## Метод наименьших квадратов\n",
    "\n",
    "Прямая регрессии является оценкой, которая минимизирует сумму квадратических значений остатков, также именуемых _остаточной суммой квадратов_ (RSS):\n",
    "$$ RSS = \\sum\\limits_{i = 1}^{n} \\left( Y_i - \\hat{Y_i} \\right)^2 = \\sum\\limits_{i = 1}^{n} \\left( Y_i - \\hat{\\theta_0} - \\hat{\\theta_1} X_i \\right)^2. $$\n",
    "Оценки $\\hat{\\theta_0}$ и $\\hat{\\theta_1}$ — это значения, которые минимизируют $RSS$.\n",
    "\n",
    "Для удобства сумму в $RSS$ часто домножают константой $\\dfrac{1}{2n}$:\n",
    "$$ RSS = \\dfrac{1}{2n} \\sum\\limits_{i = 1}^{n} \\left( Y_i - \\hat{\\theta_0} - \\hat{\\theta_1} X_i \\right)^2. $$\n",
    "\n",
    "Методом минимизации суммы квадратических остатков называется _методом наименьших квадратов_. Он основан на необходимом условии существования экстремума функции многих переменных, которое требует равенства нулю первых частных производных по переменным, по которым минимизируется функция.\n",
    "\n",
    "То есть, должны выполняться равенства\n",
    "$$ \\dfrac{\\partial RSS}{\\partial \\hat{\\theta_0}} = \\dfrac{1}{n} \\sum\\limits_{i = 1}^{n} \\left( Y_i - \\hat{\\theta_0} - X_i \\hat{\\theta_1} \\right) \\cdot (-1) = -\\dfrac{1}{n} \\sum\\limits_{i} Y_i + \\hat{\\theta_0} + \\dfrac{\\hat{\\theta_1}}{n} \\sum\\limits_{i} X_i = 0, $$\n",
    "$$ \\dfrac{\\partial RSS}{\\partial \\hat{\\theta_1}} = \\dfrac{1}{n} \\sum\\limits_{i = 1}^{n} \\left( Y_i - \\hat{\\theta_0} - X_i \\hat{\\theta_1} \\right) \\cdot \\left( -X_i \\right) = -\\dfrac{1}{n} \\sum\\limits_i Y_i X_i + \\dfrac{\\hat{\\theta_0}}{n} \\sum\\limits_i X_i + \\dfrac{\\hat{\\theta_1}}{n} \\sum\\limits_i X_i^2 = 0. $$\n",
    "Откуда\n",
    "$$ \\hat{\\theta_0} = \\dfrac{1}{n} \\sum\\limits_i Y_i - \\dfrac{\\hat{\\theta_0}}{n} \\sum\\limits_i X_i = \\overline{Y} - \\hat{\\theta_1} \\overline{X}, $$\n",
    "$$ \\hat{\\theta_1} = \\dfrac{\\sum\\limits_i Y_i X_i - \\dfrac{1}{n}\\sum\\limits_i Y_i \\sum\\limits_i X_i}{\\sum\\limits_i X_i^2 - \\dfrac{1}{n} \\left( \\sum\\limits_i X_i \\right)^2}. $$\n",
    "\n",
    "Можно заметить, что\n",
    "$$ \\hat{\\theta_1} = \\dfrac{Cov(X_{(n)}, Y_{(n)})}{\\hat{d}_X(n)} = \\hat r_{XY} \\sqrt{\\dfrac{\\hat d_Y}{\\hat d_X}}, $$\n",
    "$$ \\hat{\\theta_0} = \\hat m_Y - \\hat{\\theta_1} \\hat m_X, $$\n",
    "где $Cov(X_{(n)}, Y_{(n)})$ — выборочная ковариация, $\\hat{d}_X(n)$ — выборочная дисперсия."
   ]
  },
  {
   "cell_type": "markdown",
   "metadata": {},
   "source": [
    "По полученным уравнениям можем найти значения коэффициентов регрессии для нашего примера."
   ]
  },
  {
   "cell_type": "code",
   "execution_count": 13,
   "metadata": {},
   "outputs": [
    {
     "name": "stdout",
     "output_type": "stream",
     "text": [
      "Coeffitients of regression: -3.8957808783118573 1.1930336441895943\n"
     ]
    }
   ],
   "source": [
    "theta_1 = r * np.sqrt(y_std / x_std)\n",
    "theta_0 = y_mean - theta_1 * x_mean\n",
    "\n",
    "print('Coeffitients of regression:', theta_0, theta_1)"
   ]
  },
  {
   "cell_type": "code",
   "execution_count": 15,
   "metadata": {},
   "outputs": [],
   "source": [
    "# fitted values\n",
    "y_hat = theta_0 + theta_1 * df.population"
   ]
  },
  {
   "cell_type": "markdown",
   "metadata": {},
   "source": [
    "Посмотрим, какая ожидается прибыль от городов с населением 35000 и 70000 человек."
   ]
  },
  {
   "cell_type": "code",
   "execution_count": 11,
   "metadata": {},
   "outputs": [
    {
     "name": "stdout",
     "output_type": "stream",
     "text": [
      "For population of 35,000 people we predict a profit of 2798.0$.\n",
      "For population of 70,000 people we predict a profit of 44555.0$.\n"
     ]
    }
   ],
   "source": [
    "profit_35k = round((theta_0 + theta_1 * 3.5) * 10000)\n",
    "profit_70k = round((theta_0 + theta_1 * 7) * 10000)\n",
    "\n",
    "print(f'For population of 35,000 people we predict a profit of {profit_35k}$.\\nFor population of 70,000 people we predict a profit of {profit_70k}$.')"
   ]
  },
  {
   "cell_type": "markdown",
   "metadata": {},
   "source": [
    "На графике изображена полученная прямая линейной регрессии."
   ]
  },
  {
   "cell_type": "code",
   "execution_count": 16,
   "metadata": {},
   "outputs": [
    {
     "data": {
      "image/png": "[encoded data removed]",
      "text/plain": [
       "<Figure size 1080x720 with 1 Axes>"
      ]
     },
     "metadata": {
      "needs_background": "light"
     },
     "output_type": "display_data"
    }
   ],
   "source": [
    "plt.figure(figsize=(15, 10))\n",
    "plt.scatter(df.population, df.profit, color='red')\n",
    "plt.plot(df.population, y_hat, color='green')\n",
    "plt.ylabel('Profit in $10,000s')\n",
    "plt.xlabel('Population of City in 10,000s')\n",
    "plt.legend(['Linear regression', 'Training data'])\n",
    "plt.title('Training data with linear regression fit')\n",
    "plt.show()"
   ]
  },
  {
   "cell_type": "markdown",
   "metadata": {},
   "source": [
    "# Список использованных источников\n",
    "\n",
    "1. Материалы курса Machine Learning - Andrew Ng, Stanford University on Coursera.\n",
    "2. Брюс, П. Практическая статистика для специалистов Data Science: Пер. с англ. / П. Брюс, Э Брюс. — СПб.: БХВ-Петербург, 2019. — 304 с.: ил.\n",
    "3. Кибзун А. И., Горяинова Е. Р., Наумов А. В. Теория вероятностей и математическая статистика. Базовый курс с примерами и задачами: Учебник. — 3-е изд., перераб. и доп. — М.: ФИЗМАТЛИТ, 2013. — 232 с.\n",
    "4. http://www.machinelearning.ru/wiki/images/f/fc/MOTP14_3.pdf"
   ]
  }
 ],
 "metadata": {
  "kernelspec": {
   "display_name": "Python 3",
   "language": "python",
   "name": "python3"
  },
  "language_info": {
   "codemirror_mode": {
    "name": "ipython",
    "version": 3
   },
   "file_extension": ".py",
   "mimetype": "text/x-python",
   "name": "python",
   "nbconvert_exporter": "python",
   "pygments_lexer": "ipython3",
   "version": "3.7.4"
  }
 },
 "nbformat": 4,
 "nbformat_minor": 4
}
